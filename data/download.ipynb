{
 "cells": [
  {
   "cell_type": "code",
   "execution_count": 10,
   "metadata": {},
   "outputs": [
    {
     "name": "stdout",
     "output_type": "stream",
     "text": [
      "Usage: python download.py drive_file_id destination_file_path\n"
     ]
    },
    {
     "name": "stderr",
     "output_type": "stream",
     "text": [
      "<>:48: SyntaxWarning: \"is not\" with a literal. Did you mean \"!=\"?\n",
      "<>:48: SyntaxWarning: \"is not\" with a literal. Did you mean \"!=\"?\n",
      "/var/folders/xn/w33zcz590tvgxn9x7gzyj6km0000gn/T/ipykernel_20542/2184807697.py:48: SyntaxWarning: \"is not\" with a literal. Did you mean \"!=\"?\n",
      "  if len(sys.argv) is not 3:\n"
     ]
    }
   ],
   "source": [
    "#\n",
    "# CREDIT: https://stackoverflow.com/a/39225039\n",
    "#\n",
    "\n",
    "import requests\n",
    "\n",
    "def progress_bar(some_iter):\n",
    "    try:\n",
    "        from tqdm import tqdm\n",
    "        return tqdm(some_iter)\n",
    "    except ModuleNotFoundError:\n",
    "        return some_iter\n",
    "\n",
    "def download_file_from_google_drive(id, destination):\n",
    "    print(\"Trying to fetch {}\".format(destination))\n",
    "\n",
    "    def get_confirm_token(response):\n",
    "        for key, value in response.cookies.items():\n",
    "            if key.startswith('download_warning'):\n",
    "                return value\n",
    "\n",
    "        return None\n",
    "\n",
    "    def save_response_content(response, destination):\n",
    "        CHUNK_SIZE = 32768\n",
    "\n",
    "        with open(destination, \"wb\") as f:\n",
    "            for chunk in progress_bar(response.iter_content(CHUNK_SIZE)):\n",
    "                if chunk: # filter out keep-alive new chunks\n",
    "                    f.write(chunk)\n",
    "\n",
    "    URL = \"https://docs.google.com/uc?export=download\"\n",
    "\n",
    "    session = requests.Session()\n",
    "\n",
    "    response = session.get(URL, params = { 'id' : id }, stream = True)\n",
    "    token = get_confirm_token(response)\n",
    "\n",
    "    if token:\n",
    "        params = { 'id' : id, 'confirm' : token }\n",
    "        response = session.get(URL, params = params, stream = True)\n",
    "\n",
    "    save_response_content(response, destination)\n",
    "\n",
    "\n",
    "if __name__ == \"__main__\":\n",
    "    import sys\n",
    "    if len(sys.argv) is not 3:\n",
    "        print(\"Usage: python download.py drive_file_id destination_file_path\")\n",
    "    else:\n",
    "        # TAKE ID FROM SHAREABLE LINK\n",
    "        file_id = sys.argv[1]\n",
    "        # DESTINATION FILE ON YOUR DISK\n",
    "        destination = sys.argv[2]\n",
    "        download_file_from_google_drive(file_id, destination)\n"
   ]
  },
  {
   "cell_type": "code",
   "execution_count": 11,
   "metadata": {},
   "outputs": [
    {
     "ename": "ImportError",
     "evalue": "cannot import name 'download_file_from_google_drive' from 'download' (/Library/Frameworks/Python.framework/Versions/3.11/lib/python3.11/site-packages/download/__init__.py)",
     "output_type": "error",
     "traceback": [
      "\u001b[0;31m---------------------------------------------------------------------------\u001b[0m",
      "\u001b[0;31mImportError\u001b[0m                               Traceback (most recent call last)",
      "\u001b[1;32m/Shaokang-Yang/PyTorchNLPBook/data/download.ipynb Cell 2\u001b[0m line \u001b[0;36m1\n\u001b[0;32m----> <a href='vscode-notebook-cell://github/Shaokang-Yang/PyTorchNLPBook/data/download.ipynb#W4sdnNjb2RlLXZmcw%3D%3D?line=0'>1</a>\u001b[0m \u001b[39mfrom\u001b[39;00m \u001b[39mdownload\u001b[39;00m \u001b[39mimport\u001b[39;00m download_file_from_google_drive\n\u001b[1;32m      <a href='vscode-notebook-cell://github/Shaokang-Yang/PyTorchNLPBook/data/download.ipynb#W4sdnNjb2RlLXZmcw%3D%3D?line=2'>3</a>\u001b[0m \u001b[39m# Set the file ID and destination file path\u001b[39;00m\n\u001b[1;32m      <a href='vscode-notebook-cell://github/Shaokang-Yang/PyTorchNLPBook/data/download.ipynb#W4sdnNjb2RlLXZmcw%3D%3D?line=3'>4</a>\u001b[0m file_id \u001b[39m=\u001b[39m \u001b[39m\"\u001b[39m\u001b[39mraw_train.csv\u001b[39m\u001b[39m\"\u001b[39m\n",
      "\u001b[0;31mImportError\u001b[0m: cannot import name 'download_file_from_google_drive' from 'download' (/Library/Frameworks/Python.framework/Versions/3.11/lib/python3.11/site-packages/download/__init__.py)"
     ]
    }
   ],
   "source": [
    "from download import download_file_from_google_drive\n",
    "\n",
    "# Set the file ID and destination file path\n",
    "file_id = \"raw_train.csv\"\n",
    "destination = \"path/to/destination/file\"\n",
    "\n",
    "# Download the file\n",
    "download_file_from_google_drive(file_id, destination)"
   ]
  },
  {
   "cell_type": "code",
   "execution_count": null,
   "metadata": {},
   "outputs": [],
   "source": [
    "pip install download"
   ]
  },
  {
   "cell_type": "code",
   "execution_count": 6,
   "metadata": {},
   "outputs": [
    {
     "name": "stdout",
     "output_type": "stream",
     "text": [
      "Requirement already satisfied: requests in /Library/Frameworks/Python.framework/Versions/3.11/lib/python3.11/site-packages (2.31.0)\n",
      "Requirement already satisfied: tqdm in /Library/Frameworks/Python.framework/Versions/3.11/lib/python3.11/site-packages (4.66.1)\n",
      "Requirement already satisfied: charset-normalizer<4,>=2 in /Library/Frameworks/Python.framework/Versions/3.11/lib/python3.11/site-packages (from requests) (3.2.0)\n",
      "Requirement already satisfied: idna<4,>=2.5 in /Library/Frameworks/Python.framework/Versions/3.11/lib/python3.11/site-packages (from requests) (3.4)\n",
      "Requirement already satisfied: urllib3<3,>=1.21.1 in /Library/Frameworks/Python.framework/Versions/3.11/lib/python3.11/site-packages (from requests) (2.0.4)\n",
      "Requirement already satisfied: certifi>=2017.4.17 in /Library/Frameworks/Python.framework/Versions/3.11/lib/python3.11/site-packages (from requests) (2023.7.22)\n",
      "\n",
      "\u001b[1m[\u001b[0m\u001b[34;49mnotice\u001b[0m\u001b[1;39;49m]\u001b[0m\u001b[39;49m A new release of pip available: \u001b[0m\u001b[31;49m22.3.1\u001b[0m\u001b[39;49m -> \u001b[0m\u001b[32;49m23.2.1\u001b[0m\n",
      "\u001b[1m[\u001b[0m\u001b[34;49mnotice\u001b[0m\u001b[1;39;49m]\u001b[0m\u001b[39;49m To update, run: \u001b[0m\u001b[32;49mpip3 install --upgrade pip\u001b[0m\n",
      "Note: you may need to restart the kernel to use updated packages.\n"
     ]
    }
   ],
   "source": [
    "pip install requests tqdm"
   ]
  },
  {
   "cell_type": "code",
   "execution_count": 8,
   "metadata": {},
   "outputs": [
    {
     "ename": "ImportError",
     "evalue": "cannot import name 'download_file_from_google_drive' from 'download' (/Library/Frameworks/Python.framework/Versions/3.11/lib/python3.11/site-packages/download/__init__.py)",
     "output_type": "error",
     "traceback": [
      "\u001b[0;31m---------------------------------------------------------------------------\u001b[0m",
      "\u001b[0;31mImportError\u001b[0m                               Traceback (most recent call last)",
      "\u001b[1;32m/Shaokang-Yang/PyTorchNLPBook/data/download.ipynb Cell 4\u001b[0m line \u001b[0;36m1\n\u001b[0;32m----> <a href='vscode-notebook-cell://github/Shaokang-Yang/PyTorchNLPBook/data/download.ipynb#W1sdnNjb2RlLXZmcw%3D%3D?line=0'>1</a>\u001b[0m \u001b[39mfrom\u001b[39;00m \u001b[39mdownload\u001b[39;00m \u001b[39mimport\u001b[39;00m download_file_from_google_drive\n\u001b[1;32m      <a href='vscode-notebook-cell://github/Shaokang-Yang/PyTorchNLPBook/data/download.ipynb#W1sdnNjb2RlLXZmcw%3D%3D?line=2'>3</a>\u001b[0m \u001b[39m# Set the file ID and destination file path\u001b[39;00m\n\u001b[1;32m      <a href='vscode-notebook-cell://github/Shaokang-Yang/PyTorchNLPBook/data/download.ipynb#W1sdnNjb2RlLXZmcw%3D%3D?line=3'>4</a>\u001b[0m file_id \u001b[39m=\u001b[39m \u001b[39m\"\u001b[39m\u001b[39myour_file_id_here\u001b[39m\u001b[39m\"\u001b[39m\n",
      "\u001b[0;31mImportError\u001b[0m: cannot import name 'download_file_from_google_drive' from 'download' (/Library/Frameworks/Python.framework/Versions/3.11/lib/python3.11/site-packages/download/__init__.py)"
     ]
    }
   ],
   "source": [
    "from download import download_file_from_google_drive\n",
    "\n",
    "# Set the file ID and destination file path\n",
    "file_id = \"your_file_id_here\"\n",
    "destination = \"path/to/destination/file\"\n",
    "\n",
    "# Download the file\n",
    "download_file_from_google_drive(file_id, destination)"
   ]
  }
 ],
 "metadata": {
  "kernelspec": {
   "display_name": "Python 3",
   "language": "python",
   "name": "python3"
  },
  "language_info": {
   "codemirror_mode": {
    "name": "ipython",
    "version": 3
   },
   "file_extension": ".py",
   "mimetype": "text/x-python",
   "name": "python",
   "nbconvert_exporter": "python",
   "pygments_lexer": "ipython3",
   "version": "3.11.3"
  },
  "orig_nbformat": 4
 },
 "nbformat": 4,
 "nbformat_minor": 2
}
